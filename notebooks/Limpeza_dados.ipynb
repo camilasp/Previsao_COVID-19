{
  "nbformat": 4,
  "nbformat_minor": 0,
  "metadata": {
    "colab": {
      "name": "Limpeza_dados.ipynb",
      "provenance": [],
      "collapsed_sections": [],
      "authorship_tag": "ABX9TyMkMGTVBo8sz5zUX8/vnJBW",
      "include_colab_link": true
    },
    "kernelspec": {
      "name": "python3",
      "display_name": "Python 3"
    },
    "language_info": {
      "name": "python"
    }
  },
  "cells": [
    {
      "cell_type": "markdown",
      "metadata": {
        "id": "view-in-github",
        "colab_type": "text"
      },
      "source": [
        "<a href=\"https://colab.research.google.com/github/camilasp/Previsao_COVID-19/blob/master/notebooks/Limpeza_dados.ipynb\" target=\"_parent\"><img src=\"https://colab.research.google.com/assets/colab-badge.svg\" alt=\"Open In Colab\"/></a>"
      ]
    },
    {
      "cell_type": "markdown",
      "metadata": {
        "id": "APDXrZmARqNk"
      },
      "source": [
        "# **Limpeza dos dados e download dos datasets criados**"
      ]
    },
    {
      "cell_type": "code",
      "metadata": {
        "id": "GMVwDC1rOy8Q"
      },
      "source": [
        "import pandas as pd\n",
        "import numpy as np"
      ],
      "execution_count": null,
      "outputs": []
    },
    {
      "cell_type": "code",
      "metadata": {
        "id": "TAwKfFpSOVWV"
      },
      "source": [
        "from google.colab import files"
      ],
      "execution_count": null,
      "outputs": []
    },
    {
      "cell_type": "code",
      "metadata": {
        "id": "TaLONEHjEEsI"
      },
      "source": [
        "dados_full = pd.read_csv(\"https://github.com/camilasp/Previsao_COVID-19/blob/master/dados/caso_full.zip?raw=true\", compression = 'zip')"
      ],
      "execution_count": null,
      "outputs": []
    },
    {
      "cell_type": "code",
      "metadata": {
        "id": "7FhNknBiEktM"
      },
      "source": [
        " dados_full['date'] = pd.to_datetime(dados_full['date'],format='%Y-%m-%d')"
      ],
      "execution_count": null,
      "outputs": []
    },
    {
      "cell_type": "code",
      "metadata": {
        "id": "AtwdubioFA1B"
      },
      "source": [
        "dados = dados_full.copy().dropna()"
      ],
      "execution_count": null,
      "outputs": []
    },
    {
      "cell_type": "code",
      "metadata": {
        "id": "gdacKQIAFWJ7"
      },
      "source": [
        "mapa = {'new_confirmed': 'casos_novos', 'last_available_confirmed':'casos', 'new_deaths':'obitos_novos', 'last_available_deaths':'obitos'}\n",
        "dados.rename(columns=mapa, inplace=True)"
      ],
      "execution_count": null,
      "outputs": []
    },
    {
      "cell_type": "code",
      "metadata": {
        "colab": {
          "base_uri": "https://localhost:8080/",
          "height": 305
        },
        "id": "MSKZ3JYESL7A",
        "outputId": "12bd0819-daff-4f6e-8c25-f49313725dee"
      },
      "source": [
        "dados.head()"
      ],
      "execution_count": null,
      "outputs": [
        {
          "output_type": "execute_result",
          "data": {
            "text/html": [
              "<div>\n",
              "<style scoped>\n",
              "    .dataframe tbody tr th:only-of-type {\n",
              "        vertical-align: middle;\n",
              "    }\n",
              "\n",
              "    .dataframe tbody tr th {\n",
              "        vertical-align: top;\n",
              "    }\n",
              "\n",
              "    .dataframe thead th {\n",
              "        text-align: right;\n",
              "    }\n",
              "</style>\n",
              "<table border=\"1\" class=\"dataframe\">\n",
              "  <thead>\n",
              "    <tr style=\"text-align: right;\">\n",
              "      <th></th>\n",
              "      <th>city</th>\n",
              "      <th>city_ibge_code</th>\n",
              "      <th>date</th>\n",
              "      <th>epidemiological_week</th>\n",
              "      <th>estimated_population</th>\n",
              "      <th>estimated_population_2019</th>\n",
              "      <th>is_last</th>\n",
              "      <th>is_repeated</th>\n",
              "      <th>casos</th>\n",
              "      <th>last_available_confirmed_per_100k_inhabitants</th>\n",
              "      <th>last_available_date</th>\n",
              "      <th>last_available_death_rate</th>\n",
              "      <th>obitos</th>\n",
              "      <th>order_for_place</th>\n",
              "      <th>place_type</th>\n",
              "      <th>state</th>\n",
              "      <th>casos_novos</th>\n",
              "      <th>obitos_novos</th>\n",
              "    </tr>\n",
              "  </thead>\n",
              "  <tbody>\n",
              "    <tr>\n",
              "      <th>0</th>\n",
              "      <td>Rio Branco</td>\n",
              "      <td>1200401.0</td>\n",
              "      <td>2020-03-17</td>\n",
              "      <td>202012</td>\n",
              "      <td>413418.0</td>\n",
              "      <td>407319.0</td>\n",
              "      <td>False</td>\n",
              "      <td>False</td>\n",
              "      <td>3</td>\n",
              "      <td>0.72566</td>\n",
              "      <td>2020-03-17</td>\n",
              "      <td>0.0</td>\n",
              "      <td>0</td>\n",
              "      <td>1</td>\n",
              "      <td>city</td>\n",
              "      <td>AC</td>\n",
              "      <td>3</td>\n",
              "      <td>0</td>\n",
              "    </tr>\n",
              "    <tr>\n",
              "      <th>2</th>\n",
              "      <td>Rio Branco</td>\n",
              "      <td>1200401.0</td>\n",
              "      <td>2020-03-18</td>\n",
              "      <td>202012</td>\n",
              "      <td>413418.0</td>\n",
              "      <td>407319.0</td>\n",
              "      <td>False</td>\n",
              "      <td>False</td>\n",
              "      <td>3</td>\n",
              "      <td>0.72566</td>\n",
              "      <td>2020-03-18</td>\n",
              "      <td>0.0</td>\n",
              "      <td>0</td>\n",
              "      <td>2</td>\n",
              "      <td>city</td>\n",
              "      <td>AC</td>\n",
              "      <td>0</td>\n",
              "      <td>0</td>\n",
              "    </tr>\n",
              "    <tr>\n",
              "      <th>4</th>\n",
              "      <td>Rio Branco</td>\n",
              "      <td>1200401.0</td>\n",
              "      <td>2020-03-19</td>\n",
              "      <td>202012</td>\n",
              "      <td>413418.0</td>\n",
              "      <td>407319.0</td>\n",
              "      <td>False</td>\n",
              "      <td>False</td>\n",
              "      <td>4</td>\n",
              "      <td>0.96754</td>\n",
              "      <td>2020-03-19</td>\n",
              "      <td>0.0</td>\n",
              "      <td>0</td>\n",
              "      <td>3</td>\n",
              "      <td>city</td>\n",
              "      <td>AC</td>\n",
              "      <td>1</td>\n",
              "      <td>0</td>\n",
              "    </tr>\n",
              "    <tr>\n",
              "      <th>6</th>\n",
              "      <td>Rio Branco</td>\n",
              "      <td>1200401.0</td>\n",
              "      <td>2020-03-20</td>\n",
              "      <td>202012</td>\n",
              "      <td>413418.0</td>\n",
              "      <td>407319.0</td>\n",
              "      <td>False</td>\n",
              "      <td>False</td>\n",
              "      <td>7</td>\n",
              "      <td>1.69320</td>\n",
              "      <td>2020-03-20</td>\n",
              "      <td>0.0</td>\n",
              "      <td>0</td>\n",
              "      <td>4</td>\n",
              "      <td>city</td>\n",
              "      <td>AC</td>\n",
              "      <td>3</td>\n",
              "      <td>0</td>\n",
              "    </tr>\n",
              "    <tr>\n",
              "      <th>8</th>\n",
              "      <td>Rio Branco</td>\n",
              "      <td>1200401.0</td>\n",
              "      <td>2020-03-21</td>\n",
              "      <td>202012</td>\n",
              "      <td>413418.0</td>\n",
              "      <td>407319.0</td>\n",
              "      <td>False</td>\n",
              "      <td>False</td>\n",
              "      <td>11</td>\n",
              "      <td>2.66075</td>\n",
              "      <td>2020-03-21</td>\n",
              "      <td>0.0</td>\n",
              "      <td>0</td>\n",
              "      <td>5</td>\n",
              "      <td>city</td>\n",
              "      <td>AC</td>\n",
              "      <td>4</td>\n",
              "      <td>0</td>\n",
              "    </tr>\n",
              "  </tbody>\n",
              "</table>\n",
              "</div>"
            ],
            "text/plain": [
              "         city  city_ibge_code       date  ...  state  casos_novos  obitos_novos\n",
              "0  Rio Branco       1200401.0 2020-03-17  ...     AC            3             0\n",
              "2  Rio Branco       1200401.0 2020-03-18  ...     AC            0             0\n",
              "4  Rio Branco       1200401.0 2020-03-19  ...     AC            1             0\n",
              "6  Rio Branco       1200401.0 2020-03-20  ...     AC            3             0\n",
              "8  Rio Branco       1200401.0 2020-03-21  ...     AC            4             0\n",
              "\n",
              "[5 rows x 18 columns]"
            ]
          },
          "metadata": {
            "tags": []
          },
          "execution_count": 9
        }
      ]
    },
    {
      "cell_type": "code",
      "metadata": {
        "id": "5g7HaBJTFiPg"
      },
      "source": [
        "dados_resumido= dados[['city', 'state', 'date', 'casos', 'casos_novos', 'obitos', 'obitos_novos']]"
      ],
      "execution_count": null,
      "outputs": []
    },
    {
      "cell_type": "code",
      "metadata": {
        "id": "JeOhoA8NoSrg"
      },
      "source": [
        "dados_sp = dados_resumido.query('state == \"SP\"')"
      ],
      "execution_count": null,
      "outputs": []
    },
    {
      "cell_type": "code",
      "metadata": {
        "colab": {
          "base_uri": "https://localhost:8080/",
          "height": 202
        },
        "id": "cQHKlMWZSTDQ",
        "outputId": "0bd838d4-96c6-4fab-b060-b264bd7805b9"
      },
      "source": [
        "dados_sp.head()"
      ],
      "execution_count": null,
      "outputs": [
        {
          "output_type": "execute_result",
          "data": {
            "text/html": [
              "<div>\n",
              "<style scoped>\n",
              "    .dataframe tbody tr th:only-of-type {\n",
              "        vertical-align: middle;\n",
              "    }\n",
              "\n",
              "    .dataframe tbody tr th {\n",
              "        vertical-align: top;\n",
              "    }\n",
              "\n",
              "    .dataframe thead th {\n",
              "        text-align: right;\n",
              "    }\n",
              "</style>\n",
              "<table border=\"1\" class=\"dataframe\">\n",
              "  <thead>\n",
              "    <tr style=\"text-align: right;\">\n",
              "      <th></th>\n",
              "      <th>city</th>\n",
              "      <th>state</th>\n",
              "      <th>date</th>\n",
              "      <th>casos</th>\n",
              "      <th>casos_novos</th>\n",
              "      <th>obitos</th>\n",
              "      <th>obitos_novos</th>\n",
              "    </tr>\n",
              "  </thead>\n",
              "  <tbody>\n",
              "    <tr>\n",
              "      <th>1995467</th>\n",
              "      <td>São Paulo</td>\n",
              "      <td>SP</td>\n",
              "      <td>2020-02-25</td>\n",
              "      <td>1</td>\n",
              "      <td>1</td>\n",
              "      <td>0</td>\n",
              "      <td>0</td>\n",
              "    </tr>\n",
              "    <tr>\n",
              "      <th>1995469</th>\n",
              "      <td>São Paulo</td>\n",
              "      <td>SP</td>\n",
              "      <td>2020-02-26</td>\n",
              "      <td>1</td>\n",
              "      <td>0</td>\n",
              "      <td>0</td>\n",
              "      <td>0</td>\n",
              "    </tr>\n",
              "    <tr>\n",
              "      <th>1995471</th>\n",
              "      <td>São Paulo</td>\n",
              "      <td>SP</td>\n",
              "      <td>2020-02-27</td>\n",
              "      <td>1</td>\n",
              "      <td>0</td>\n",
              "      <td>0</td>\n",
              "      <td>0</td>\n",
              "    </tr>\n",
              "    <tr>\n",
              "      <th>1995473</th>\n",
              "      <td>São Paulo</td>\n",
              "      <td>SP</td>\n",
              "      <td>2020-02-28</td>\n",
              "      <td>2</td>\n",
              "      <td>1</td>\n",
              "      <td>0</td>\n",
              "      <td>0</td>\n",
              "    </tr>\n",
              "    <tr>\n",
              "      <th>1995475</th>\n",
              "      <td>São Paulo</td>\n",
              "      <td>SP</td>\n",
              "      <td>2020-02-29</td>\n",
              "      <td>2</td>\n",
              "      <td>0</td>\n",
              "      <td>0</td>\n",
              "      <td>0</td>\n",
              "    </tr>\n",
              "  </tbody>\n",
              "</table>\n",
              "</div>"
            ],
            "text/plain": [
              "              city state       date  casos  casos_novos  obitos  obitos_novos\n",
              "1995467  São Paulo    SP 2020-02-25      1            1       0             0\n",
              "1995469  São Paulo    SP 2020-02-26      1            0       0             0\n",
              "1995471  São Paulo    SP 2020-02-27      1            0       0             0\n",
              "1995473  São Paulo    SP 2020-02-28      2            1       0             0\n",
              "1995475  São Paulo    SP 2020-02-29      2            0       0             0"
            ]
          },
          "metadata": {
            "tags": []
          },
          "execution_count": 12
        }
      ]
    },
    {
      "cell_type": "code",
      "metadata": {
        "id": "-AYyuGZPGqSK"
      },
      "source": [
        "dados_botucatu = dados_resumido.copy().query('city==\"Botucatu\" & state==\"SP\"')"
      ],
      "execution_count": null,
      "outputs": []
    },
    {
      "cell_type": "code",
      "metadata": {
        "colab": {
          "base_uri": "https://localhost:8080/",
          "height": 414
        },
        "id": "3v_A09ioT9jq",
        "outputId": "c93282fc-7807-4ce0-ae3c-c9cb4e345d79"
      },
      "source": [
        "dados_botucatu"
      ],
      "execution_count": null,
      "outputs": [
        {
          "output_type": "execute_result",
          "data": {
            "text/html": [
              "<div>\n",
              "<style scoped>\n",
              "    .dataframe tbody tr th:only-of-type {\n",
              "        vertical-align: middle;\n",
              "    }\n",
              "\n",
              "    .dataframe tbody tr th {\n",
              "        vertical-align: top;\n",
              "    }\n",
              "\n",
              "    .dataframe thead th {\n",
              "        text-align: right;\n",
              "    }\n",
              "</style>\n",
              "<table border=\"1\" class=\"dataframe\">\n",
              "  <thead>\n",
              "    <tr style=\"text-align: right;\">\n",
              "      <th></th>\n",
              "      <th>city</th>\n",
              "      <th>state</th>\n",
              "      <th>date</th>\n",
              "      <th>casos</th>\n",
              "      <th>casos_novos</th>\n",
              "      <th>obitos</th>\n",
              "      <th>obitos_novos</th>\n",
              "    </tr>\n",
              "  </thead>\n",
              "  <tbody>\n",
              "    <tr>\n",
              "      <th>1996268</th>\n",
              "      <td>Botucatu</td>\n",
              "      <td>SP</td>\n",
              "      <td>2020-04-04</td>\n",
              "      <td>7</td>\n",
              "      <td>7</td>\n",
              "      <td>0</td>\n",
              "      <td>0</td>\n",
              "    </tr>\n",
              "    <tr>\n",
              "      <th>1996368</th>\n",
              "      <td>Botucatu</td>\n",
              "      <td>SP</td>\n",
              "      <td>2020-04-05</td>\n",
              "      <td>7</td>\n",
              "      <td>0</td>\n",
              "      <td>0</td>\n",
              "      <td>0</td>\n",
              "    </tr>\n",
              "    <tr>\n",
              "      <th>1996472</th>\n",
              "      <td>Botucatu</td>\n",
              "      <td>SP</td>\n",
              "      <td>2020-04-06</td>\n",
              "      <td>7</td>\n",
              "      <td>0</td>\n",
              "      <td>0</td>\n",
              "      <td>0</td>\n",
              "    </tr>\n",
              "    <tr>\n",
              "      <th>1996586</th>\n",
              "      <td>Botucatu</td>\n",
              "      <td>SP</td>\n",
              "      <td>2020-04-07</td>\n",
              "      <td>8</td>\n",
              "      <td>1</td>\n",
              "      <td>0</td>\n",
              "      <td>0</td>\n",
              "    </tr>\n",
              "    <tr>\n",
              "      <th>1996714</th>\n",
              "      <td>Botucatu</td>\n",
              "      <td>SP</td>\n",
              "      <td>2020-04-08</td>\n",
              "      <td>9</td>\n",
              "      <td>1</td>\n",
              "      <td>1</td>\n",
              "      <td>1</td>\n",
              "    </tr>\n",
              "    <tr>\n",
              "      <th>...</th>\n",
              "      <td>...</td>\n",
              "      <td>...</td>\n",
              "      <td>...</td>\n",
              "      <td>...</td>\n",
              "      <td>...</td>\n",
              "      <td>...</td>\n",
              "      <td>...</td>\n",
              "    </tr>\n",
              "    <tr>\n",
              "      <th>2265248</th>\n",
              "      <td>Botucatu</td>\n",
              "      <td>SP</td>\n",
              "      <td>2021-06-24</td>\n",
              "      <td>13433</td>\n",
              "      <td>26</td>\n",
              "      <td>265</td>\n",
              "      <td>1</td>\n",
              "    </tr>\n",
              "    <tr>\n",
              "      <th>2265895</th>\n",
              "      <td>Botucatu</td>\n",
              "      <td>SP</td>\n",
              "      <td>2021-06-25</td>\n",
              "      <td>13782</td>\n",
              "      <td>349</td>\n",
              "      <td>265</td>\n",
              "      <td>0</td>\n",
              "    </tr>\n",
              "    <tr>\n",
              "      <th>2266542</th>\n",
              "      <td>Botucatu</td>\n",
              "      <td>SP</td>\n",
              "      <td>2021-06-26</td>\n",
              "      <td>14302</td>\n",
              "      <td>520</td>\n",
              "      <td>268</td>\n",
              "      <td>3</td>\n",
              "    </tr>\n",
              "    <tr>\n",
              "      <th>2267189</th>\n",
              "      <td>Botucatu</td>\n",
              "      <td>SP</td>\n",
              "      <td>2021-06-27</td>\n",
              "      <td>14310</td>\n",
              "      <td>8</td>\n",
              "      <td>268</td>\n",
              "      <td>0</td>\n",
              "    </tr>\n",
              "    <tr>\n",
              "      <th>2267836</th>\n",
              "      <td>Botucatu</td>\n",
              "      <td>SP</td>\n",
              "      <td>2021-06-28</td>\n",
              "      <td>14310</td>\n",
              "      <td>0</td>\n",
              "      <td>268</td>\n",
              "      <td>0</td>\n",
              "    </tr>\n",
              "  </tbody>\n",
              "</table>\n",
              "<p>451 rows × 7 columns</p>\n",
              "</div>"
            ],
            "text/plain": [
              "             city state       date  casos  casos_novos  obitos  obitos_novos\n",
              "1996268  Botucatu    SP 2020-04-04      7            7       0             0\n",
              "1996368  Botucatu    SP 2020-04-05      7            0       0             0\n",
              "1996472  Botucatu    SP 2020-04-06      7            0       0             0\n",
              "1996586  Botucatu    SP 2020-04-07      8            1       0             0\n",
              "1996714  Botucatu    SP 2020-04-08      9            1       1             1\n",
              "...           ...   ...        ...    ...          ...     ...           ...\n",
              "2265248  Botucatu    SP 2021-06-24  13433           26     265             1\n",
              "2265895  Botucatu    SP 2021-06-25  13782          349     265             0\n",
              "2266542  Botucatu    SP 2021-06-26  14302          520     268             3\n",
              "2267189  Botucatu    SP 2021-06-27  14310            8     268             0\n",
              "2267836  Botucatu    SP 2021-06-28  14310            0     268             0\n",
              "\n",
              "[451 rows x 7 columns]"
            ]
          },
          "metadata": {
            "tags": []
          },
          "execution_count": 14
        }
      ]
    },
    {
      "cell_type": "code",
      "metadata": {
        "id": "3XkcrVbnSPye"
      },
      "source": [
        "lista =['Botucatu', 'Tatuí', 'Jaú', 'Avaré']"
      ],
      "execution_count": null,
      "outputs": []
    },
    {
      "cell_type": "code",
      "metadata": {
        "id": "wwX4jPvOSxl-"
      },
      "source": [
        "cidades_vizinhas = dados_sp.query('city in @lista')"
      ],
      "execution_count": null,
      "outputs": []
    },
    {
      "cell_type": "code",
      "metadata": {
        "id": "eTdszIhCFtpt"
      },
      "source": [
        "dados_coordenadas = pd.read_csv('https://raw.githubusercontent.com/seade-R/dados-covid-sp/master/data/dados_covid_sp.csv', sep=';', thousands=\".\", decimal=\",\")"
      ],
      "execution_count": null,
      "outputs": []
    },
    {
      "cell_type": "code",
      "metadata": {
        "id": "gKoQEMVrFycL"
      },
      "source": [
        "dados_coordenadas = dados_coordenadas.query('nome_munic != \"Ignorado\"')"
      ],
      "execution_count": null,
      "outputs": []
    },
    {
      "cell_type": "code",
      "metadata": {
        "id": "2znJsG52GQ5e"
      },
      "source": [
        "dados_coordenadas = dados_coordenadas[['nome_munic', 'datahora','latitude', 'longitude', 'casos', 'obitos', 'casos_pc', 'obitos_pc']]"
      ],
      "execution_count": null,
      "outputs": []
    },
    {
      "cell_type": "code",
      "metadata": {
        "id": "Ti9oPHelF5P9"
      },
      "source": [
        "dados_botucatu_sp= dados_coordenadas.copy().query('nome_munic == \"Botucatu\"')"
      ],
      "execution_count": null,
      "outputs": []
    },
    {
      "cell_type": "code",
      "metadata": {
        "colab": {
          "base_uri": "https://localhost:8080/",
          "height": 202
        },
        "id": "pXtOperCTfzF",
        "outputId": "7dfac53a-d49b-43a4-d322-21d790905cb9"
      },
      "source": [
        "dados_botucatu_sp.tail()"
      ],
      "execution_count": null,
      "outputs": [
        {
          "output_type": "execute_result",
          "data": {
            "text/html": [
              "<div>\n",
              "<style scoped>\n",
              "    .dataframe tbody tr th:only-of-type {\n",
              "        vertical-align: middle;\n",
              "    }\n",
              "\n",
              "    .dataframe tbody tr th {\n",
              "        vertical-align: top;\n",
              "    }\n",
              "\n",
              "    .dataframe thead th {\n",
              "        text-align: right;\n",
              "    }\n",
              "</style>\n",
              "<table border=\"1\" class=\"dataframe\">\n",
              "  <thead>\n",
              "    <tr style=\"text-align: right;\">\n",
              "      <th></th>\n",
              "      <th>nome_munic</th>\n",
              "      <th>datahora</th>\n",
              "      <th>latitude</th>\n",
              "      <th>longitude</th>\n",
              "      <th>casos</th>\n",
              "      <th>obitos</th>\n",
              "      <th>casos_pc</th>\n",
              "      <th>obitos_pc</th>\n",
              "    </tr>\n",
              "  </thead>\n",
              "  <tbody>\n",
              "    <tr>\n",
              "      <th>315490</th>\n",
              "      <td>Botucatu</td>\n",
              "      <td>2021-06-28</td>\n",
              "      <td>-22.8837</td>\n",
              "      <td>-48.4437</td>\n",
              "      <td>14450</td>\n",
              "      <td>268</td>\n",
              "      <td>10238.424204</td>\n",
              "      <td>189.889113</td>\n",
              "    </tr>\n",
              "    <tr>\n",
              "      <th>316135</th>\n",
              "      <td>Botucatu</td>\n",
              "      <td>2021-06-29</td>\n",
              "      <td>-22.8837</td>\n",
              "      <td>-48.4437</td>\n",
              "      <td>14987</td>\n",
              "      <td>270</td>\n",
              "      <td>10618.910972</td>\n",
              "      <td>191.306196</td>\n",
              "    </tr>\n",
              "    <tr>\n",
              "      <th>316780</th>\n",
              "      <td>Botucatu</td>\n",
              "      <td>2021-06-30</td>\n",
              "      <td>-22.8837</td>\n",
              "      <td>-48.4437</td>\n",
              "      <td>15154</td>\n",
              "      <td>271</td>\n",
              "      <td>10737.237397</td>\n",
              "      <td>192.014738</td>\n",
              "    </tr>\n",
              "    <tr>\n",
              "      <th>317425</th>\n",
              "      <td>Botucatu</td>\n",
              "      <td>2021-07-01</td>\n",
              "      <td>-22.8837</td>\n",
              "      <td>-48.4437</td>\n",
              "      <td>15683</td>\n",
              "      <td>271</td>\n",
              "      <td>11112.055833</td>\n",
              "      <td>192.014738</td>\n",
              "    </tr>\n",
              "    <tr>\n",
              "      <th>318070</th>\n",
              "      <td>Botucatu</td>\n",
              "      <td>2021-07-02</td>\n",
              "      <td>-22.8837</td>\n",
              "      <td>-48.4437</td>\n",
              "      <td>16490</td>\n",
              "      <td>272</td>\n",
              "      <td>11683.848797</td>\n",
              "      <td>192.723279</td>\n",
              "    </tr>\n",
              "  </tbody>\n",
              "</table>\n",
              "</div>"
            ],
            "text/plain": [
              "       nome_munic    datahora  latitude  ...  obitos      casos_pc   obitos_pc\n",
              "315490   Botucatu  2021-06-28  -22.8837  ...     268  10238.424204  189.889113\n",
              "316135   Botucatu  2021-06-29  -22.8837  ...     270  10618.910972  191.306196\n",
              "316780   Botucatu  2021-06-30  -22.8837  ...     271  10737.237397  192.014738\n",
              "317425   Botucatu  2021-07-01  -22.8837  ...     271  11112.055833  192.014738\n",
              "318070   Botucatu  2021-07-02  -22.8837  ...     272  11683.848797  192.723279\n",
              "\n",
              "[5 rows x 8 columns]"
            ]
          },
          "metadata": {
            "tags": []
          },
          "execution_count": 60
        }
      ]
    },
    {
      "cell_type": "code",
      "metadata": {
        "id": "NPS76tF7xlvw"
      },
      "source": [
        "dados_coordenadas = dados_coordenadas.query('datahora == \"2021-06-30\"')"
      ],
      "execution_count": null,
      "outputs": []
    },
    {
      "cell_type": "code",
      "metadata": {
        "colab": {
          "base_uri": "https://localhost:8080/",
          "height": 202
        },
        "id": "Go0Guh5zTqIK",
        "outputId": "0c450355-8640-440e-a8fc-2ce6fa2f6b4d"
      },
      "source": [
        "dados_coordenadas.head()"
      ],
      "execution_count": null,
      "outputs": [
        {
          "output_type": "execute_result",
          "data": {
            "text/html": [
              "<div>\n",
              "<style scoped>\n",
              "    .dataframe tbody tr th:only-of-type {\n",
              "        vertical-align: middle;\n",
              "    }\n",
              "\n",
              "    .dataframe tbody tr th {\n",
              "        vertical-align: top;\n",
              "    }\n",
              "\n",
              "    .dataframe thead th {\n",
              "        text-align: right;\n",
              "    }\n",
              "</style>\n",
              "<table border=\"1\" class=\"dataframe\">\n",
              "  <thead>\n",
              "    <tr style=\"text-align: right;\">\n",
              "      <th></th>\n",
              "      <th>nome_munic</th>\n",
              "      <th>datahora</th>\n",
              "      <th>latitude</th>\n",
              "      <th>longitude</th>\n",
              "      <th>casos</th>\n",
              "      <th>obitos</th>\n",
              "      <th>casos_pc</th>\n",
              "      <th>obitos_pc</th>\n",
              "    </tr>\n",
              "  </thead>\n",
              "  <tbody>\n",
              "    <tr>\n",
              "      <th>316695</th>\n",
              "      <td>ADAMANTINA</td>\n",
              "      <td>2021-06-30</td>\n",
              "      <td>-21.6820</td>\n",
              "      <td>-51.0737</td>\n",
              "      <td>3322</td>\n",
              "      <td>104</td>\n",
              "      <td>9801.144745</td>\n",
              "      <td>306.838969</td>\n",
              "    </tr>\n",
              "    <tr>\n",
              "      <th>316696</th>\n",
              "      <td>ADOLFO</td>\n",
              "      <td>2021-06-30</td>\n",
              "      <td>-21.2325</td>\n",
              "      <td>-49.6451</td>\n",
              "      <td>527</td>\n",
              "      <td>14</td>\n",
              "      <td>15288.656803</td>\n",
              "      <td>406.150276</td>\n",
              "    </tr>\n",
              "    <tr>\n",
              "      <th>316697</th>\n",
              "      <td>AGUAÍ</td>\n",
              "      <td>2021-06-30</td>\n",
              "      <td>-22.0572</td>\n",
              "      <td>-46.9735</td>\n",
              "      <td>3047</td>\n",
              "      <td>95</td>\n",
              "      <td>8557.065828</td>\n",
              "      <td>266.793979</td>\n",
              "    </tr>\n",
              "    <tr>\n",
              "      <th>316698</th>\n",
              "      <td>ÁGUAS DA PRATA</td>\n",
              "      <td>2021-06-30</td>\n",
              "      <td>-21.9319</td>\n",
              "      <td>-46.7176</td>\n",
              "      <td>570</td>\n",
              "      <td>22</td>\n",
              "      <td>7310.504040</td>\n",
              "      <td>282.159805</td>\n",
              "    </tr>\n",
              "    <tr>\n",
              "      <th>316699</th>\n",
              "      <td>ÁGUAS DE LINDÓIA</td>\n",
              "      <td>2021-06-30</td>\n",
              "      <td>-22.4733</td>\n",
              "      <td>-46.6314</td>\n",
              "      <td>1854</td>\n",
              "      <td>43</td>\n",
              "      <td>10090.345053</td>\n",
              "      <td>234.026342</td>\n",
              "    </tr>\n",
              "  </tbody>\n",
              "</table>\n",
              "</div>"
            ],
            "text/plain": [
              "              nome_munic    datahora  ...      casos_pc   obitos_pc\n",
              "316695        ADAMANTINA  2021-06-30  ...   9801.144745  306.838969\n",
              "316696            ADOLFO  2021-06-30  ...  15288.656803  406.150276\n",
              "316697             AGUAÍ  2021-06-30  ...   8557.065828  266.793979\n",
              "316698    ÁGUAS DA PRATA  2021-06-30  ...   7310.504040  282.159805\n",
              "316699  ÁGUAS DE LINDÓIA  2021-06-30  ...  10090.345053  234.026342\n",
              "\n",
              "[5 rows x 8 columns]"
            ]
          },
          "metadata": {
            "tags": []
          },
          "execution_count": 61
        }
      ]
    },
    {
      "cell_type": "code",
      "metadata": {
        "id": "YazHn0dUZ6KA"
      },
      "source": [
        "vacinacao= pd.read_csv(\"/content/20210701_percentual_primeira_dose.csv\",  sep=';', thousands=\".\", decimal=\",\")"
      ],
      "execution_count": null,
      "outputs": []
    },
    {
      "cell_type": "code",
      "metadata": {
        "id": "s3bYGeUfabev"
      },
      "source": [
        "vacinacao = vacinacao[['Município','% da população geral', 'Doses Aplicadas - D1', 'População']]"
      ],
      "execution_count": null,
      "outputs": []
    },
    {
      "cell_type": "code",
      "metadata": {
        "id": "dpqR_INsawiV"
      },
      "source": [
        "mapa = {'Município': 'nome_munic', '% da população geral':'porcentagem_vacinada', 'Doses Aplicadas - D1': 'doses_aplicadas', 'População': 'populacao'}\n",
        "vacinacao.rename(columns=mapa, inplace=True)"
      ],
      "execution_count": null,
      "outputs": []
    },
    {
      "cell_type": "code",
      "metadata": {
        "colab": {
          "base_uri": "https://localhost:8080/",
          "height": 202
        },
        "id": "Q6xKrDhHUblm",
        "outputId": "f3faab9e-1567-4453-fb2b-398120241f70"
      },
      "source": [
        "vacinacao.head()"
      ],
      "execution_count": null,
      "outputs": [
        {
          "output_type": "execute_result",
          "data": {
            "text/html": [
              "<div>\n",
              "<style scoped>\n",
              "    .dataframe tbody tr th:only-of-type {\n",
              "        vertical-align: middle;\n",
              "    }\n",
              "\n",
              "    .dataframe tbody tr th {\n",
              "        vertical-align: top;\n",
              "    }\n",
              "\n",
              "    .dataframe thead th {\n",
              "        text-align: right;\n",
              "    }\n",
              "</style>\n",
              "<table border=\"1\" class=\"dataframe\">\n",
              "  <thead>\n",
              "    <tr style=\"text-align: right;\">\n",
              "      <th></th>\n",
              "      <th>nome_munic</th>\n",
              "      <th>porcentagem_vacinada</th>\n",
              "      <th>doses_aplicadas</th>\n",
              "      <th>populacao</th>\n",
              "    </tr>\n",
              "  </thead>\n",
              "  <tbody>\n",
              "    <tr>\n",
              "      <th>0</th>\n",
              "      <td>BOTUCATU</td>\n",
              "      <td>0.817694</td>\n",
              "      <td>121125</td>\n",
              "      <td>148130</td>\n",
              "    </tr>\n",
              "    <tr>\n",
              "      <th>1</th>\n",
              "      <td>SERRANA</td>\n",
              "      <td>0.756989</td>\n",
              "      <td>34552</td>\n",
              "      <td>45644</td>\n",
              "    </tr>\n",
              "    <tr>\n",
              "      <th>2</th>\n",
              "      <td>TURMALINA</td>\n",
              "      <td>0.699882</td>\n",
              "      <td>1187</td>\n",
              "      <td>1696</td>\n",
              "    </tr>\n",
              "    <tr>\n",
              "      <th>3</th>\n",
              "      <td>FLORA RICA</td>\n",
              "      <td>0.668531</td>\n",
              "      <td>956</td>\n",
              "      <td>1430</td>\n",
              "    </tr>\n",
              "    <tr>\n",
              "      <th>4</th>\n",
              "      <td>URU</td>\n",
              "      <td>0.667823</td>\n",
              "      <td>770</td>\n",
              "      <td>1153</td>\n",
              "    </tr>\n",
              "  </tbody>\n",
              "</table>\n",
              "</div>"
            ],
            "text/plain": [
              "   nome_munic  porcentagem_vacinada  doses_aplicadas  populacao\n",
              "0    BOTUCATU              0.817694           121125     148130\n",
              "1     SERRANA              0.756989            34552      45644\n",
              "2   TURMALINA              0.699882             1187       1696\n",
              "3  FLORA RICA              0.668531              956       1430\n",
              "4         URU              0.667823              770       1153"
            ]
          },
          "metadata": {
            "tags": []
          },
          "execution_count": 64
        }
      ]
    },
    {
      "cell_type": "code",
      "metadata": {
        "id": "thgm7lk3pSFR"
      },
      "source": [
        "dados_coordenadas['nome_munic']= dados_coordenadas['nome_munic'].str.upper()"
      ],
      "execution_count": null,
      "outputs": []
    },
    {
      "cell_type": "code",
      "metadata": {
        "id": "5E39U9gbtdkg"
      },
      "source": [
        "vacinacao_sp = vacinacao.merge(dados_coordenadas, on='nome_munic')"
      ],
      "execution_count": null,
      "outputs": []
    },
    {
      "cell_type": "code",
      "metadata": {
        "colab": {
          "base_uri": "https://localhost:8080/",
          "height": 202
        },
        "id": "SoMMw5ANUi9R",
        "outputId": "83539e96-037e-4525-a3f6-0e0308575161"
      },
      "source": [
        "vacinacao_sp.head()"
      ],
      "execution_count": null,
      "outputs": [
        {
          "output_type": "execute_result",
          "data": {
            "text/html": [
              "<div>\n",
              "<style scoped>\n",
              "    .dataframe tbody tr th:only-of-type {\n",
              "        vertical-align: middle;\n",
              "    }\n",
              "\n",
              "    .dataframe tbody tr th {\n",
              "        vertical-align: top;\n",
              "    }\n",
              "\n",
              "    .dataframe thead th {\n",
              "        text-align: right;\n",
              "    }\n",
              "</style>\n",
              "<table border=\"1\" class=\"dataframe\">\n",
              "  <thead>\n",
              "    <tr style=\"text-align: right;\">\n",
              "      <th></th>\n",
              "      <th>nome_munic</th>\n",
              "      <th>porcentagem_vacinada</th>\n",
              "      <th>doses_aplicadas</th>\n",
              "      <th>populacao</th>\n",
              "      <th>datahora</th>\n",
              "      <th>latitude</th>\n",
              "      <th>longitude</th>\n",
              "      <th>casos</th>\n",
              "      <th>obitos</th>\n",
              "      <th>casos_pc</th>\n",
              "      <th>obitos_pc</th>\n",
              "    </tr>\n",
              "  </thead>\n",
              "  <tbody>\n",
              "    <tr>\n",
              "      <th>0</th>\n",
              "      <td>BOTUCATU</td>\n",
              "      <td>0.817694</td>\n",
              "      <td>121125</td>\n",
              "      <td>148130</td>\n",
              "      <td>2021-06-30</td>\n",
              "      <td>-22.8837</td>\n",
              "      <td>-48.4437</td>\n",
              "      <td>15154</td>\n",
              "      <td>271</td>\n",
              "      <td>10737.237397</td>\n",
              "      <td>192.014738</td>\n",
              "    </tr>\n",
              "    <tr>\n",
              "      <th>1</th>\n",
              "      <td>SERRANA</td>\n",
              "      <td>0.756989</td>\n",
              "      <td>34552</td>\n",
              "      <td>45644</td>\n",
              "      <td>2021-06-30</td>\n",
              "      <td>-21.2043</td>\n",
              "      <td>-47.5952</td>\n",
              "      <td>4249</td>\n",
              "      <td>89</td>\n",
              "      <td>9562.497187</td>\n",
              "      <td>200.297070</td>\n",
              "    </tr>\n",
              "    <tr>\n",
              "      <th>2</th>\n",
              "      <td>TURMALINA</td>\n",
              "      <td>0.699882</td>\n",
              "      <td>1187</td>\n",
              "      <td>1696</td>\n",
              "      <td>2021-06-30</td>\n",
              "      <td>-20.0486</td>\n",
              "      <td>-50.4792</td>\n",
              "      <td>169</td>\n",
              "      <td>4</td>\n",
              "      <td>9362.880886</td>\n",
              "      <td>221.606648</td>\n",
              "    </tr>\n",
              "    <tr>\n",
              "      <th>3</th>\n",
              "      <td>FLORA RICA</td>\n",
              "      <td>0.668531</td>\n",
              "      <td>956</td>\n",
              "      <td>1430</td>\n",
              "      <td>2021-06-30</td>\n",
              "      <td>-21.6727</td>\n",
              "      <td>-51.3821</td>\n",
              "      <td>121</td>\n",
              "      <td>4</td>\n",
              "      <td>7614.852108</td>\n",
              "      <td>251.730648</td>\n",
              "    </tr>\n",
              "    <tr>\n",
              "      <th>4</th>\n",
              "      <td>URU</td>\n",
              "      <td>0.667823</td>\n",
              "      <td>770</td>\n",
              "      <td>1153</td>\n",
              "      <td>2021-06-30</td>\n",
              "      <td>-21.7866</td>\n",
              "      <td>-49.2848</td>\n",
              "      <td>156</td>\n",
              "      <td>3</td>\n",
              "      <td>12924.606462</td>\n",
              "      <td>248.550124</td>\n",
              "    </tr>\n",
              "  </tbody>\n",
              "</table>\n",
              "</div>"
            ],
            "text/plain": [
              "   nome_munic  porcentagem_vacinada  ...      casos_pc   obitos_pc\n",
              "0    BOTUCATU              0.817694  ...  10737.237397  192.014738\n",
              "1     SERRANA              0.756989  ...   9562.497187  200.297070\n",
              "2   TURMALINA              0.699882  ...   9362.880886  221.606648\n",
              "3  FLORA RICA              0.668531  ...   7614.852108  251.730648\n",
              "4         URU              0.667823  ...  12924.606462  248.550124\n",
              "\n",
              "[5 rows x 11 columns]"
            ]
          },
          "metadata": {
            "tags": []
          },
          "execution_count": 65
        }
      ]
    },
    {
      "cell_type": "code",
      "metadata": {
        "id": "8XSkVYY-b7bj"
      },
      "source": [
        "vacinacao_sp.to_csv('vacinacao_sp.csv', index=False)"
      ],
      "execution_count": null,
      "outputs": []
    },
    {
      "cell_type": "code",
      "metadata": {
        "id": "5D15l5vimcTb"
      },
      "source": [
        "dados_botucatu.to_csv('dados_botucatu.csv', index= False)"
      ],
      "execution_count": null,
      "outputs": []
    },
    {
      "cell_type": "code",
      "metadata": {
        "id": "apY-6PBqTCuu"
      },
      "source": [
        "cidades_vizinhas.to_csv('cidades_vizinhas.csv', index = False)"
      ],
      "execution_count": null,
      "outputs": []
    },
    {
      "cell_type": "code",
      "metadata": {
        "id": "KYB_2JDIm137"
      },
      "source": [
        "dados_botucatu_sp.to_csv('dados_botucatu_sp.csv', index= False)"
      ],
      "execution_count": null,
      "outputs": []
    },
    {
      "cell_type": "code",
      "metadata": {
        "id": "jV8dkNVexwhK"
      },
      "source": [
        "dados_sp.to_csv('dados_sp.csv', index=False)"
      ],
      "execution_count": null,
      "outputs": []
    },
    {
      "cell_type": "code",
      "metadata": {
        "colab": {
          "base_uri": "https://localhost:8080/",
          "height": 16
        },
        "id": "KXzwBS1KcTMt",
        "outputId": "ea5d6169-e8ff-4587-9ea9-5843883e2827"
      },
      "source": [
        "files.download('vacinacao_sp.csv')"
      ],
      "execution_count": null,
      "outputs": [
        {
          "output_type": "display_data",
          "data": {
            "application/javascript": [
              "\n",
              "    async function download(id, filename, size) {\n",
              "      if (!google.colab.kernel.accessAllowed) {\n",
              "        return;\n",
              "      }\n",
              "      const div = document.createElement('div');\n",
              "      const label = document.createElement('label');\n",
              "      label.textContent = `Downloading \"${filename}\": `;\n",
              "      div.appendChild(label);\n",
              "      const progress = document.createElement('progress');\n",
              "      progress.max = size;\n",
              "      div.appendChild(progress);\n",
              "      document.body.appendChild(div);\n",
              "\n",
              "      const buffers = [];\n",
              "      let downloaded = 0;\n",
              "\n",
              "      const channel = await google.colab.kernel.comms.open(id);\n",
              "      // Send a message to notify the kernel that we're ready.\n",
              "      channel.send({})\n",
              "\n",
              "      for await (const message of channel.messages) {\n",
              "        // Send a message to notify the kernel that we're ready.\n",
              "        channel.send({})\n",
              "        if (message.buffers) {\n",
              "          for (const buffer of message.buffers) {\n",
              "            buffers.push(buffer);\n",
              "            downloaded += buffer.byteLength;\n",
              "            progress.value = downloaded;\n",
              "          }\n",
              "        }\n",
              "      }\n",
              "      const blob = new Blob(buffers, {type: 'application/binary'});\n",
              "      const a = document.createElement('a');\n",
              "      a.href = window.URL.createObjectURL(blob);\n",
              "      a.download = filename;\n",
              "      div.appendChild(a);\n",
              "      a.click();\n",
              "      div.remove();\n",
              "    }\n",
              "  "
            ],
            "text/plain": [
              "<IPython.core.display.Javascript object>"
            ]
          },
          "metadata": {
            "tags": []
          }
        },
        {
          "output_type": "display_data",
          "data": {
            "application/javascript": [
              "download(\"download_29f98e20-7d42-46eb-aaa8-e1420cc49bfc\", \"vacinacao_sp.csv\", 70133)"
            ],
            "text/plain": [
              "<IPython.core.display.Javascript object>"
            ]
          },
          "metadata": {
            "tags": []
          }
        }
      ]
    },
    {
      "cell_type": "code",
      "metadata": {
        "colab": {
          "base_uri": "https://localhost:8080/",
          "height": 16
        },
        "id": "CaiE6ZvFnZsu",
        "outputId": "110b2bce-d412-42d3-fd6a-1980d580d9cd"
      },
      "source": [
        "files.download('dados_botucatu.csv')"
      ],
      "execution_count": null,
      "outputs": [
        {
          "output_type": "display_data",
          "data": {
            "application/javascript": [
              "\n",
              "    async function download(id, filename, size) {\n",
              "      if (!google.colab.kernel.accessAllowed) {\n",
              "        return;\n",
              "      }\n",
              "      const div = document.createElement('div');\n",
              "      const label = document.createElement('label');\n",
              "      label.textContent = `Downloading \"${filename}\": `;\n",
              "      div.appendChild(label);\n",
              "      const progress = document.createElement('progress');\n",
              "      progress.max = size;\n",
              "      div.appendChild(progress);\n",
              "      document.body.appendChild(div);\n",
              "\n",
              "      const buffers = [];\n",
              "      let downloaded = 0;\n",
              "\n",
              "      const channel = await google.colab.kernel.comms.open(id);\n",
              "      // Send a message to notify the kernel that we're ready.\n",
              "      channel.send({})\n",
              "\n",
              "      for await (const message of channel.messages) {\n",
              "        // Send a message to notify the kernel that we're ready.\n",
              "        channel.send({})\n",
              "        if (message.buffers) {\n",
              "          for (const buffer of message.buffers) {\n",
              "            buffers.push(buffer);\n",
              "            downloaded += buffer.byteLength;\n",
              "            progress.value = downloaded;\n",
              "          }\n",
              "        }\n",
              "      }\n",
              "      const blob = new Blob(buffers, {type: 'application/binary'});\n",
              "      const a = document.createElement('a');\n",
              "      a.href = window.URL.createObjectURL(blob);\n",
              "      a.download = filename;\n",
              "      div.appendChild(a);\n",
              "      a.click();\n",
              "      div.remove();\n",
              "    }\n",
              "  "
            ],
            "text/plain": [
              "<IPython.core.display.Javascript object>"
            ]
          },
          "metadata": {
            "tags": []
          }
        },
        {
          "output_type": "display_data",
          "data": {
            "application/javascript": [
              "download(\"download_f336f342-7710-4624-a338-292f57570173\", \"dados_botucatu.csv\", 16150)"
            ],
            "text/plain": [
              "<IPython.core.display.Javascript object>"
            ]
          },
          "metadata": {
            "tags": []
          }
        }
      ]
    },
    {
      "cell_type": "code",
      "metadata": {
        "id": "ZKTb8M0tnfr3"
      },
      "source": [
        "files.download('dados_botucatu_sp.csv')"
      ],
      "execution_count": null,
      "outputs": []
    },
    {
      "cell_type": "code",
      "metadata": {
        "id": "9ZstiFWSTRx7"
      },
      "source": [
        "files.download('cidades_vizinhas.csv')"
      ],
      "execution_count": null,
      "outputs": []
    },
    {
      "cell_type": "code",
      "metadata": {
        "id": "JeldmnLrx6Ur"
      },
      "source": [
        "files.download('dados_sp.csv')"
      ],
      "execution_count": null,
      "outputs": []
    }
  ]
}